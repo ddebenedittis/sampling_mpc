{
 "cells": [
  {
   "cell_type": "markdown",
   "metadata": {},
   "source": []
  },
  {
   "cell_type": "code",
   "execution_count": null,
   "metadata": {},
   "outputs": [],
   "source": [
    "import jax\n",
    "import jax.numpy as jnp\n",
    "import mujoco\n",
    "from mujoco import mjx\n",
    "\n",
    "\n",
    "import hydrax\n",
    "from hydrax.algs import PredictiveSampling\n",
    "from hydrax.simulation.deterministic import run_interactive\n",
    "from hydrax.task_base import Task"
   ]
  },
  {
   "cell_type": "code",
   "execution_count": null,
   "metadata": {},
   "outputs": [],
   "source": [
    "class CartPole(Task):\n",
    "    \"\"\"A cart-pole swingup task.\"\"\"\n",
    "\n",
    "    def __init__(\n",
    "        self, planning_horizon: int = 10, sim_steps_per_control_step: int = 10\n",
    "    ):\n",
    "        \"\"\"Load the MuJoCo model and set task parameters.\"\"\"\n",
    "        mj_model = mujoco.MjModel.from_xml_path(\n",
    "            hydrax.ROOT + \"/models/cart_pole/scene.xml\"\n",
    "        )\n",
    "\n",
    "        super().__init__(\n",
    "            mj_model,\n",
    "            planning_horizon=planning_horizon,\n",
    "            sim_steps_per_control_step=sim_steps_per_control_step,\n",
    "            trace_sites=[\"tip\"],\n",
    "        )\n",
    "\n",
    "    def _distance_to_upright(self, state: mjx.Data) -> jax.Array:\n",
    "        \"\"\"Get a measure of distance to the upright position.\"\"\"\n",
    "        theta = state.qpos[1] + jnp.pi\n",
    "        theta_err = jnp.array([jnp.cos(theta) - 1, jnp.sin(theta)])\n",
    "        return jnp.sum(jnp.square(theta_err))\n",
    "\n",
    "    def running_cost(self, state: mjx.Data, control: jax.Array) -> jax.Array:\n",
    "        \"\"\"The running cost ℓ(xₜ, uₜ).\"\"\"\n",
    "        theta_cost = self._distance_to_upright(state)\n",
    "        centering_cost = jnp.sum(jnp.square(state.qpos[0]))\n",
    "        velocity_cost = 0.01 * jnp.sum(jnp.square(state.qvel))\n",
    "        control_cost = 0.01 * jnp.sum(jnp.square(control))\n",
    "        return theta_cost + centering_cost + velocity_cost + control_cost\n",
    "\n",
    "    def terminal_cost(self, state: mjx.Data) -> jax.Array:\n",
    "        \"\"\"The terminal cost ϕ(x_T).\"\"\"\n",
    "        theta_cost = 10 * self._distance_to_upright(state)\n",
    "        centering_cost = jnp.sum(jnp.square(state.qpos[0]))\n",
    "        velocity_cost = 0.01 * jnp.sum(jnp.square(state.qvel))\n",
    "        return theta_cost + centering_cost + velocity_cost"
   ]
  },
  {
   "cell_type": "code",
   "execution_count": null,
   "metadata": {},
   "outputs": [],
   "source": [
    "# Define the task (cost and dynamics)\n",
    "task = CartPole()\n",
    "\n",
    "# Set up the controller\n",
    "ctrl = PredictiveSampling(task, num_samples=128, noise_level=0.3)\n",
    "\n",
    "# Define the model used for simulation\n",
    "mj_model = task.mj_model\n",
    "mj_data = mujoco.MjData(mj_model)\n",
    "\n",
    "# Run the interactive simulation\n",
    "run_interactive(\n",
    "    ctrl,\n",
    "    mj_model,\n",
    "    mj_data,\n",
    "    frequency=50,\n",
    "    fixed_camera_id=0,\n",
    "    show_traces=True,\n",
    "    max_traces=1,\n",
    ")"
   ]
  }
 ],
 "metadata": {
  "kernelspec": {
   "display_name": ".venv",
   "language": "python",
   "name": "python3"
  },
  "language_info": {
   "codemirror_mode": {
    "name": "ipython",
    "version": 3
   },
   "file_extension": ".py",
   "mimetype": "text/x-python",
   "name": "python",
   "nbconvert_exporter": "python",
   "pygments_lexer": "ipython3",
   "version": "3.12.3"
  }
 },
 "nbformat": 4,
 "nbformat_minor": 2
}
